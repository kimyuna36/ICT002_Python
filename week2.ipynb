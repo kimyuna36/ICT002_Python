{
  "nbformat": 4,
  "nbformat_minor": 0,
  "metadata": {
    "colab": {
      "provenance": [],
      "authorship_tag": "ABX9TyMOdH7bYp/kamEn5heXk1Ca",
      "include_colab_link": true
    },
    "kernelspec": {
      "name": "python3",
      "display_name": "Python 3"
    },
    "language_info": {
      "name": "python"
    }
  },
  "cells": [
    {
      "cell_type": "markdown",
      "metadata": {
        "id": "view-in-github",
        "colab_type": "text"
      },
      "source": [
        "<a href=\"https://colab.research.google.com/github/kimyuna36/ICT002_Python/blob/main/week2.ipynb\" target=\"_parent\"><img src=\"https://colab.research.google.com/assets/colab-badge.svg\" alt=\"Open In Colab\"/></a>"
      ]
    },
    {
      "cell_type": "code",
      "execution_count": null,
      "metadata": {
        "colab": {
          "base_uri": "https://localhost:8080/"
        },
        "id": "KJlqjmWzZFxY",
        "outputId": "58b8cc25-b20d-495d-cb07-616b90be4e01"
      },
      "outputs": [
        {
          "output_type": "stream",
          "name": "stdout",
          "text": [
            "이름을 입력하세요:홍길동\n",
            "당신이 태어난 해의 년도,월, 일을 차례로 입력하세요:2000,3,6\n",
            "홍길동씨! 당신의 생년월일은 2000년 3월 6일입니다.\n",
            "2001\n"
          ]
        }
      ],
      "source": [
        "name=input(\"이름을 입력하세요:\")\n",
        "year,month,day=input(\"당신이 태어난 해의 년도,월, 일을 차례로 입력하세요:\").split(',')\n",
        "print(f\"{name}씨! 당신의 생년월일은 {year}년 {month}월 {day}일입니다.\")\n",
        "\n",
        "print(int(year)+1)"
      ]
    },
    {
      "cell_type": "code",
      "source": [
        "num1=int(input(\"첫 번째 정수?\"))\n",
        "num2=int(input(\"두 번째 정수?\"))\n",
        "num3=int(input(\"세번째 정수?\"))\n",
        "sum=num1+num2+num3\n",
        "print(f\"{num1}과 {num2}과 {num3}의 합은 {sum:0,d}이다.\")\n"
      ],
      "metadata": {
        "colab": {
          "base_uri": "https://localhost:8080/"
        },
        "id": "dSYhvgnveI2m",
        "outputId": "1e9c20c4-cece-469e-9c64-b38ad67b75ec"
      },
      "execution_count": null,
      "outputs": [
        {
          "output_type": "stream",
          "name": "stdout",
          "text": [
            "첫 번째 정수?150\n",
            "두 번째 정수?350\n",
            "세번째 정수?500\n",
            "150과 350과 500의 합은 1,000이다.\n"
          ]
        }
      ]
    },
    {
      "cell_type": "code",
      "source": [
        "kor=int(input(\"국어:\"))\n",
        "eng=int(input(\"영어:\"))\n",
        "math=int(input(\"수학:\"))\n",
        "sum=kor+eng+math\n",
        "avg=sum/3\n",
        "print(f\"총점:{sum}\\n평균:{avg:0,.2f}\")"
      ],
      "metadata": {
        "colab": {
          "base_uri": "https://localhost:8080/"
        },
        "id": "jWbVHv0khPcw",
        "outputId": "05bcd41e-c6e6-4025-c464-af44c67b930b"
      },
      "execution_count": null,
      "outputs": [
        {
          "output_type": "stream",
          "name": "stdout",
          "text": [
            "국어:100\n",
            "영어:80\n",
            "수학:75\n",
            "총점:255\n",
            "평균:85.00\n"
          ]
        }
      ]
    },
    {
      "cell_type": "code",
      "source": [
        "list_color=[\"red\",\"blue\",\"orange\",\"green\",\"purple\"]\n",
        "list_color.pop()\n",
        "print(list_color)"
      ],
      "metadata": {
        "colab": {
          "base_uri": "https://localhost:8080/"
        },
        "id": "3HQyhfrDtrf5",
        "outputId": "d5ebac2a-2439-4b46-b1ca-5657afaddc09"
      },
      "execution_count": null,
      "outputs": [
        {
          "output_type": "stream",
          "name": "stdout",
          "text": [
            "['red', 'blue', 'orange', 'green']\n"
          ]
        }
      ]
    },
    {
      "cell_type": "code",
      "source": [
        "\n",
        "list_color=[\"red\",\"blue\",\"orange\",\"green\"]\n",
        "list_color.remove(\"orange\")\n",
        "print(list_color)"
      ],
      "metadata": {
        "colab": {
          "base_uri": "https://localhost:8080/"
        },
        "id": "aCUubJi8uYFq",
        "outputId": "cba7ac5b-e141-48d4-e504-bd238f611077"
      },
      "execution_count": null,
      "outputs": [
        {
          "output_type": "stream",
          "name": "stdout",
          "text": [
            "['red', 'blue', 'green']\n"
          ]
        }
      ]
    },
    {
      "cell_type": "code",
      "source": [
        "list_color=[\"red\",\"blue\",\"green\"]\n",
        "del list_color[0]\n",
        "del list_color[0]\n",
        "del list_color[0]\n",
        "print(list_color)"
      ],
      "metadata": {
        "colab": {
          "base_uri": "https://localhost:8080/"
        },
        "id": "egVFD1xkvPPK",
        "outputId": "39503258-4b21-4c13-d377-a2ad34739164"
      },
      "execution_count": null,
      "outputs": [
        {
          "output_type": "stream",
          "name": "stdout",
          "text": [
            "[]\n"
          ]
        }
      ]
    },
    {
      "cell_type": "markdown",
      "source": [
        "chapter2_실습"
      ],
      "metadata": {
        "id": "lLyhJyXAwJ6a"
      }
    },
    {
      "cell_type": "code",
      "source": [
        "num=((5*5+2*((25-5)/5))**2)\n",
        "print(num)"
      ],
      "metadata": {
        "colab": {
          "base_uri": "https://localhost:8080/"
        },
        "id": "nTqVBIL_1axY",
        "outputId": "79445787-c03d-416e-dfaa-c06667982af0"
      },
      "execution_count": 1,
      "outputs": [
        {
          "output_type": "stream",
          "name": "stdout",
          "text": [
            "1089.0\n"
          ]
        }
      ]
    },
    {
      "cell_type": "markdown",
      "source": [
        "chapter2_실습"
      ],
      "metadata": {
        "id": "t_FetMKpwS5H"
      }
    },
    {
      "cell_type": "code",
      "source": [
        "num1=(int(input(\"분자 값\")))\n",
        "num2=(int(input(\"분모 값\")))\n",
        "num3=num1//num2\n",
        "num4=num1%num2\n",
        "print(f\"나눗셈 몫={num3}\\n나눗셈 나머지={num4}\")\n"
      ],
      "metadata": {
        "colab": {
          "base_uri": "https://localhost:8080/"
        },
        "id": "gJzbteyy4Sbj",
        "outputId": "d44bb2f5-c4ef-4edd-aaec-944a9c9a0b55"
      },
      "execution_count": null,
      "outputs": [
        {
          "output_type": "stream",
          "name": "stdout",
          "text": [
            "분자 값13\n",
            "분모 값5\n",
            "나눗셈 몫=2\n",
            "나눗셈 나머지=3\n"
          ]
        }
      ]
    },
    {
      "cell_type": "markdown",
      "source": [
        "chapter2_실습"
      ],
      "metadata": {
        "id": "N6irkZgV046W"
      }
    },
    {
      "cell_type": "code",
      "source": [
        "fah=(int(input(\"화씨온도:\")))\n",
        "cel=(fah-32.0)/1.8\n",
        "print(f\"입력한 화씨온도 {fah}도는 섭씨온도로 {cel:0,.2f}도 이다.\")\n",
        "\n"
      ],
      "metadata": {
        "colab": {
          "base_uri": "https://localhost:8080/"
        },
        "id": "JUftRPCQwYxP",
        "outputId": "bcac2791-9b57-4442-bf33-7b0b17a7b29a"
      },
      "execution_count": 3,
      "outputs": [
        {
          "output_type": "stream",
          "name": "stdout",
          "text": [
            "화씨온도:72\n",
            "입력한 화씨온도 72도는 섭씨온도로 22.22도 이다.\n"
          ]
        }
      ]
    },
    {
      "cell_type": "markdown",
      "source": [
        "chapter2_수행평가"
      ],
      "metadata": {
        "id": "6VfrW9zP1bWS"
      }
    },
    {
      "cell_type": "code",
      "source": [
        "allowance=int(input(\"부모님으로 부터 받은 용돈:\"))\n",
        "change=allowance-3550\n",
        "five=change//500\n",
        "hundred=(change-five*500)//100\n",
        "fifty=(change-five*500-hundred*100)//50\n",
        "\n",
        "print(f\"거스름돈 :{change}원\\n500원 짜리 거스름돈 :{five}개\\n100원 짜리 거스름돈 :{hundred}개\\n50원 짜리 거스름돈 :{fifty}개\")\n"
      ],
      "metadata": {
        "colab": {
          "base_uri": "https://localhost:8080/"
        },
        "id": "4cMu9HNW1pik",
        "outputId": "1e981c42-ecbc-4dd7-ec95-989389e3d98c"
      },
      "execution_count": 7,
      "outputs": [
        {
          "output_type": "stream",
          "name": "stdout",
          "text": [
            "부모님으로 부터 받은 용돈:10000\n",
            "거스름돈 :6450원\n",
            "500원 짜리 거스름돈 :12개\n",
            "100원 짜리 거스름돈 :4개\n",
            "50원 짜리 거스름돈 :1개\n"
          ]
        }
      ]
    },
    {
      "cell_type": "code",
      "source": [
        "kor=90\n",
        "eng=80\n",
        "math=100\n",
        "print(kor>=80 and eng>=80 and math>=80 )"
      ],
      "metadata": {
        "colab": {
          "base_uri": "https://localhost:8080/"
        },
        "id": "WZkJbR7C9y5d",
        "outputId": "85894a0c-f040-4eba-b5ff-3bdb350c00a6"
      },
      "execution_count": null,
      "outputs": [
        {
          "output_type": "stream",
          "name": "stdout",
          "text": [
            "True\n"
          ]
        }
      ]
    },
    {
      "cell_type": "code",
      "source": [
        "str1+=\"\"+str2\n",
        "str1+=\"\"+str3"
      ],
      "metadata": {
        "id": "Gfu3NyN_7XCU"
      },
      "execution_count": null,
      "outputs": []
    },
    {
      "cell_type": "markdown",
      "source": [
        "chapter3"
      ],
      "metadata": {
        "id": "ysaH8nq17nJX"
      }
    },
    {
      "cell_type": "code",
      "source": [
        "number=int(input(\"어떤 값:\"))\n",
        "nShift=int(input(\"왼쪽 쉬프트:\"))\n",
        "\n",
        "print(number,nShift)\n",
        "print(f\"왼쪽 쉬프트{number}<<{nShift}=\", number<<nShift)"
      ],
      "metadata": {
        "colab": {
          "base_uri": "https://localhost:8080/"
        },
        "id": "zpC8UKVSBkXM",
        "outputId": "4f02d234-e7a2-4ba1-8fd4-0c2c3aeb355a"
      },
      "execution_count": null,
      "outputs": [
        {
          "output_type": "stream",
          "name": "stdout",
          "text": [
            "어떤 값:1\n",
            "왼쪽 쉬프트:3\n",
            "1 3\n",
            "왼쪽 쉬프트1<<3= 8\n"
          ]
        }
      ]
    },
    {
      "cell_type": "markdown",
      "source": [
        "숫자 하나를 입력받아 3의 배수인지 아닌지를 판단하는 프로그램을 작성하시오\n"
      ],
      "metadata": {
        "id": "Gi9IYySADnd1"
      }
    },
    {
      "cell_type": "code",
      "source": [
        "number=int(input(\"어떤 숫자:\"))\n",
        "message=\"3의 배수입니다.\" if number%3==0 else \"3의 배수가 아닙니다.\"\n",
        "\n",
        "print(f\"당신이 입력한 숫자{number}는(은) {message}\")"
      ],
      "metadata": {
        "colab": {
          "base_uri": "https://localhost:8080/"
        },
        "id": "ajJo6oImDlYK",
        "outputId": "2d25549a-3c2f-4b24-adce-d4901958bde2"
      },
      "execution_count": null,
      "outputs": [
        {
          "output_type": "stream",
          "name": "stdout",
          "text": [
            "어떤 숫자:16\n",
            "당신이 입력한 숫자16는(은) 3의 배수가 아닙니다.\n"
          ]
        }
      ]
    },
    {
      "cell_type": "code",
      "source": [
        "price=int(input(\"상품 가격?\"))\n",
        "message=\"True\" if price>=60000 else \"False\"\n",
        "\n",
        "print(f\"할인대상: {message}\")"
      ],
      "metadata": {
        "colab": {
          "base_uri": "https://localhost:8080/"
        },
        "id": "JWtk0KvtEz1R",
        "outputId": "fb9badf7-2861-4af8-9fb6-173e7412da26"
      },
      "execution_count": null,
      "outputs": [
        {
          "output_type": "stream",
          "name": "stdout",
          "text": [
            "상품 가격?70000\n",
            "할인대상: True\n"
          ]
        }
      ]
    },
    {
      "cell_type": "code",
      "source": [
        "age=int(input(\"나이?\"))\n",
        "message=\"있습니다.\" if age>16 else \"없습니다.\"\n",
        "\n",
        "print(f\"이 등급의 영화를 볼 수 {message}\")"
      ],
      "metadata": {
        "colab": {
          "base_uri": "https://localhost:8080/"
        },
        "id": "dIqmSVYXFhpI",
        "outputId": "89325cd1-12c8-4932-b99b-f27fd380e30f"
      },
      "execution_count": null,
      "outputs": [
        {
          "output_type": "stream",
          "name": "stdout",
          "text": [
            "나이?17\n",
            "이 등급의 영화를 볼 수 있습니다.\n"
          ]
        }
      ]
    },
    {
      "cell_type": "markdown",
      "source": [
        "chapter3_수행평가"
      ],
      "metadata": {
        "id": "0qnNHvE4C38L"
      }
    },
    {
      "cell_type": "code",
      "source": [
        "letter=(input(\"알파벳을 입력하세요 \"))\n",
        "message=\"대문자\" if letter.isupper() else \"소문자\"\n",
        "\n",
        "print(f\"당신이 입력한 문자 {letter}는 {message}입니다\")"
      ],
      "metadata": {
        "colab": {
          "base_uri": "https://localhost:8080/"
        },
        "id": "DtCVjRrYGmVL",
        "outputId": "5b75a6a1-53d4-4372-817d-5ac144529ce3"
      },
      "execution_count": null,
      "outputs": [
        {
          "output_type": "stream",
          "name": "stdout",
          "text": [
            "알파벳을 입력하세요 C\n",
            "당신이 입력한 문자 C는 대문자입니다\n"
          ]
        }
      ]
    },
    {
      "cell_type": "code",
      "source": [
        "letter=(input(\"알파벳을 입력하세요 \"))\n",
        "message=\"대문자\" if ord(letter)<=90 else \"소문자\"\n",
        "\n",
        "print(f\"당신이 입력한 문자 {letter}는 {message}입니다\")"
      ],
      "metadata": {
        "colab": {
          "base_uri": "https://localhost:8080/"
        },
        "id": "X91I-NXxDRV8",
        "outputId": "d47ee6c7-cba4-453d-e077-9996b5eb8ad0"
      },
      "execution_count": 10,
      "outputs": [
        {
          "output_type": "stream",
          "name": "stdout",
          "text": [
            "알파벳을 입력하세요 A\n",
            "당신이 입력한 문자 A는 대문자입니다\n"
          ]
        }
      ]
    },
    {
      "cell_type": "markdown",
      "source": [],
      "metadata": {
        "id": "rblkm1I_DluL"
      }
    }
  ]
}