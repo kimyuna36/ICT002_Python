{
  "nbformat": 4,
  "nbformat_minor": 0,
  "metadata": {
    "colab": {
      "provenance": [],
      "collapsed_sections": []
    },
    "kernelspec": {
      "name": "python3",
      "display_name": "Python 3"
    },
    "language_info": {
      "name": "python"
    }
  },
  "cells": [
    {
      "cell_type": "code",
      "execution_count": null,
      "metadata": {
        "colab": {
          "base_uri": "https://localhost:8080/"
        },
        "id": "6cjLyJOWn53z",
        "outputId": "07fa6473-e17d-4c7d-efa1-bd0c7b89902c"
      },
      "outputs": [
        {
          "output_type": "stream",
          "name": "stdout",
          "text": [
            "10\n"
          ]
        }
      ],
      "source": [
        "a=10\n",
        "print(a)"
      ]
    },
    {
      "cell_type": "code",
      "source": [],
      "metadata": {
        "id": "LO99eyi8Fb8l"
      },
      "execution_count": null,
      "outputs": []
    },
    {
      "cell_type": "code",
      "source": [
        "print(\"Hello World\")"
      ],
      "metadata": {
        "colab": {
          "base_uri": "https://localhost:8080/"
        },
        "id": "U7ct3MlZp5cb",
        "outputId": "0938cdfc-26bc-44d1-eecb-bb78cf5210a0"
      },
      "execution_count": null,
      "outputs": [
        {
          "output_type": "stream",
          "name": "stdout",
          "text": [
            "Hello World\n"
          ]
        }
      ]
    },
    {
      "cell_type": "code",
      "source": [
        "1+1"
      ],
      "metadata": {
        "colab": {
          "base_uri": "https://localhost:8080/"
        },
        "id": "L4CXIvYBp5hr",
        "outputId": "3e5bbacc-8bb4-45be-b05d-45472efc0144"
      },
      "execution_count": null,
      "outputs": [
        {
          "output_type": "execute_result",
          "data": {
            "text/plain": [
              "2"
            ]
          },
          "metadata": {},
          "execution_count": 4
        }
      ]
    },
    {
      "cell_type": "code",
      "source": [
        "print(\"10 + 10 =\", 10+10 ,sep='$')"
      ],
      "metadata": {
        "colab": {
          "base_uri": "https://localhost:8080/"
        },
        "id": "z3lZuzSSp5s0",
        "outputId": "5559a9fd-8dd3-4877-9f44-fe5ce3e61052"
      },
      "execution_count": null,
      "outputs": [
        {
          "output_type": "stream",
          "name": "stdout",
          "text": [
            "10 + 10 =$20\n"
          ]
        }
      ]
    },
    {
      "cell_type": "code",
      "source": [
        "print(\"12345\")"
      ],
      "metadata": {
        "colab": {
          "base_uri": "https://localhost:8080/"
        },
        "id": "CacIQS2fsilK",
        "outputId": "5cb3c38d-664b-4721-8bd7-3d95a735ba20"
      },
      "execution_count": null,
      "outputs": [
        {
          "output_type": "stream",
          "name": "stdout",
          "text": [
            "12345\n"
          ]
        }
      ]
    },
    {
      "cell_type": "code",
      "source": [
        "print(\"1\"+\"2\"+\"3\"+\"4\"+\"5\")"
      ],
      "metadata": {
        "colab": {
          "base_uri": "https://localhost:8080/"
        },
        "id": "eLP_q09Gtj-_",
        "outputId": "c6ce3c83-d77e-4f47-d20e-47a5e28d807d"
      },
      "execution_count": null,
      "outputs": [
        {
          "output_type": "stream",
          "name": "stdout",
          "text": [
            "12345\n"
          ]
        }
      ]
    },
    {
      "cell_type": "code",
      "source": [
        "print(1,2,3,4,5,sep='')"
      ],
      "metadata": {
        "colab": {
          "base_uri": "https://localhost:8080/"
        },
        "id": "3MS7Ni_ZuKKC",
        "outputId": "a2806132-98cd-4184-a9f3-570435cf753e"
      },
      "execution_count": null,
      "outputs": [
        {
          "output_type": "stream",
          "name": "stdout",
          "text": [
            "12345\n"
          ]
        }
      ]
    },
    {
      "cell_type": "code",
      "source": [
        "print(\"pyton\"+\"program\")"
      ],
      "metadata": {
        "colab": {
          "base_uri": "https://localhost:8080/"
        },
        "id": "1ATIL2v2vq2P",
        "outputId": "69127dd7-a43b-4073-ada1-105f9977fd32"
      },
      "execution_count": null,
      "outputs": [
        {
          "output_type": "stream",
          "name": "stdout",
          "text": [
            "pytonprogram\n"
          ]
        }
      ]
    },
    {
      "cell_type": "code",
      "source": [
        "print(\"python\",\"program\")"
      ],
      "metadata": {
        "colab": {
          "base_uri": "https://localhost:8080/"
        },
        "id": "9AbAIDZ6vq_N",
        "outputId": "057253fb-0969-4f2d-8e9e-156a4730087d"
      },
      "execution_count": null,
      "outputs": [
        {
          "output_type": "stream",
          "name": "stdout",
          "text": [
            "python program\n"
          ]
        }
      ]
    },
    {
      "cell_type": "code",
      "source": [
        "print(\"Python Program is Great Program!\")"
      ],
      "metadata": {
        "colab": {
          "base_uri": "https://localhost:8080/"
        },
        "id": "Yj1UM3nVvrEF",
        "outputId": "43a30c01-37fa-4703-bd87-54a2db49d1d2"
      },
      "execution_count": null,
      "outputs": [
        {
          "output_type": "stream",
          "name": "stdout",
          "text": [
            "Python Program is Great Program!\n"
          ]
        }
      ]
    },
    {
      "cell_type": "code",
      "source": [
        "print(\"50+50의 합=\"+\" 100\")"
      ],
      "metadata": {
        "colab": {
          "base_uri": "https://localhost:8080/"
        },
        "id": "QUek1caww3o4",
        "outputId": "646cdc8b-d41c-4019-d8ca-cc5e7ea23f64"
      },
      "execution_count": null,
      "outputs": [
        {
          "output_type": "stream",
          "name": "stdout",
          "text": [
            "50+50의 합= 100\n"
          ]
        }
      ]
    },
    {
      "cell_type": "code",
      "source": [
        "name=\"홍길동\""
      ],
      "metadata": {
        "id": "H4XmAIdgxcIL"
      },
      "execution_count": null,
      "outputs": []
    },
    {
      "cell_type": "code",
      "source": [
        "age=20"
      ],
      "metadata": {
        "id": "Xh2W9ERV01YL"
      },
      "execution_count": null,
      "outputs": []
    },
    {
      "cell_type": "code",
      "source": [
        "print(\"나의 이름은 \",name,\"이고,\",sep='')\n",
        "print(\"나이는 \",age,\"세이다.\",sep='')"
      ],
      "metadata": {
        "colab": {
          "base_uri": "https://localhost:8080/"
        },
        "id": "7_axFkwO01cS",
        "outputId": "c7a9dd40-2ad8-4b83-aeef-7942dd1ca050"
      },
      "execution_count": null,
      "outputs": [
        {
          "output_type": "stream",
          "name": "stdout",
          "text": [
            "나의 이름은 홍길동이고,\n",
            "나이는 20세이다.\n"
          ]
        }
      ]
    },
    {
      "cell_type": "code",
      "source": [
        "name='홍길동'\n",
        "age=20\n",
        "print('나의 이름은',name,'이고,\\n','나이는 ',age,'세이다',sep='')"
      ],
      "metadata": {
        "colab": {
          "base_uri": "https://localhost:8080/"
        },
        "id": "8pd6ik7F2vxd",
        "outputId": "3bc47947-82d0-4a3e-9ed4-d7c2aaa93daf"
      },
      "execution_count": null,
      "outputs": [
        {
          "output_type": "stream",
          "name": "stdout",
          "text": [
            "나의 이름은홍길동이고,\n",
            "나이는 20세이다\n"
          ]
        }
      ]
    },
    {
      "cell_type": "code",
      "source": [
        "height = 156.987654\n",
        "\n",
        "print(\"나의 키는\",height,'입니다')\n",
        "print(\"나의 키는 {0:.2f}\".format(height))"
      ],
      "metadata": {
        "colab": {
          "base_uri": "https://localhost:8080/"
        },
        "id": "y0U6SVqc5Bck",
        "outputId": "9110aa32-857a-4ad6-d5a4-cc8fa98a4fee"
      },
      "execution_count": null,
      "outputs": [
        {
          "output_type": "stream",
          "name": "stdout",
          "text": [
            "나의 키는 156.987654 입니다\n",
            "나의 키는 156.99\n"
          ]
        }
      ]
    },
    {
      "cell_type": "code",
      "source": [
        "length=20\n",
        "width=20\n",
        "area=length*width\n",
        "print(\"직사각형의 넓이=\",area,sep='')"
      ],
      "metadata": {
        "colab": {
          "base_uri": "https://localhost:8080/"
        },
        "id": "5hpV99Ib8cQs",
        "outputId": "d6fddfdf-5cfb-41b7-88c0-f273cdeaa89c"
      },
      "execution_count": null,
      "outputs": [
        {
          "output_type": "stream",
          "name": "stdout",
          "text": [
            "직사각형의 넓이=400\n"
          ]
        }
      ]
    },
    {
      "cell_type": "code",
      "source": [
        "a=100\n",
        "b=80\n",
        "c=75\n",
        "t=a+b+c\n",
        "avg=t/3\n",
        "print(\"국어:\",a,\"\\n영어:\",b,\"\\n수학:\",c,\"\\n총점:\",t,\"\\n평균: %.2f\"%avg)"
      ],
      "metadata": {
        "colab": {
          "base_uri": "https://localhost:8080/"
        },
        "id": "wNVRNVP4Ffzz",
        "outputId": "37f88321-925d-46f0-ee19-17d0c6833ffd"
      },
      "execution_count": null,
      "outputs": [
        {
          "output_type": "stream",
          "name": "stdout",
          "text": [
            "국어: 100 \n",
            "영어: 80 \n",
            "수학: 75 \n",
            "총점: 255 \n",
            "평균: 85.00\n"
          ]
        }
      ]
    }
  ]
}