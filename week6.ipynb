{
  "nbformat": 4,
  "nbformat_minor": 0,
  "metadata": {
    "colab": {
      "provenance": [],
      "collapsed_sections": [],
      "authorship_tag": "ABX9TyOWK6QrqLTWLrZJ/+tj42qD",
      "include_colab_link": true
    },
    "kernelspec": {
      "name": "python3",
      "display_name": "Python 3"
    },
    "language_info": {
      "name": "python"
    }
  },
  "cells": [
    {
      "cell_type": "markdown",
      "metadata": {
        "id": "view-in-github",
        "colab_type": "text"
      },
      "source": [
        "<a href=\"https://colab.research.google.com/github/kimyuna36/ICT002_Python/blob/main/week6.ipynb\" target=\"_parent\"><img src=\"https://colab.research.google.com/assets/colab-badge.svg\" alt=\"Open In Colab\"/></a>"
      ]
    },
    {
      "cell_type": "code",
      "source": [
        "alphalist=['a', 'b', 'c', 'd', 'e', 'f', 'g', 'h']\n",
        "alphalist[4]\n",
        "alphalist[-5]"
      ],
      "metadata": {
        "colab": {
          "base_uri": "https://localhost:8080/",
          "height": 35
        },
        "id": "Qdp4XPQ_AnJJ",
        "outputId": "72966701-5d1c-4197-cad7-b909002cd3f1"
      },
      "execution_count": null,
      "outputs": [
        {
          "output_type": "execute_result",
          "data": {
            "text/plain": [
              "'d'"
            ],
            "application/vnd.google.colaboratory.intrinsic+json": {
              "type": "string"
            }
          },
          "metadata": {},
          "execution_count": 2
        }
      ]
    },
    {
      "cell_type": "code",
      "source": [
        " num=[10,15,20,30,3]\n",
        " copynum=num\n",
        " print(copynum)\n",
        " num[3]=25\n",
        " print(num)\n",
        " print(copynum)"
      ],
      "metadata": {
        "colab": {
          "base_uri": "https://localhost:8080/"
        },
        "id": "YtwZ8nUzKE4P",
        "outputId": "c067004c-5534-45ec-895d-e8c2c81f4778"
      },
      "execution_count": null,
      "outputs": [
        {
          "output_type": "stream",
          "name": "stdout",
          "text": [
            "[10, 15, 20, 30, 3]\n",
            "[10, 15, 20, 25, 3]\n",
            "[10, 15, 20, 25, 3]\n"
          ]
        }
      ]
    },
    {
      "cell_type": "code",
      "source": [
        "numList=[11,23,5,7,15,9,8]\n",
        "sorted(numList,reverse=True)"
      ],
      "metadata": {
        "colab": {
          "base_uri": "https://localhost:8080/"
        },
        "id": "1-Ohb772IYNP",
        "outputId": "8a7402d4-2275-4e9b-9829-b01215b39633"
      },
      "execution_count": null,
      "outputs": [
        {
          "output_type": "execute_result",
          "data": {
            "text/plain": [
              "[23, 15, 11, 9, 8, 7, 5]"
            ]
          },
          "metadata": {},
          "execution_count": 8
        }
      ]
    },
    {
      "cell_type": "code",
      "execution_count": null,
      "metadata": {
        "colab": {
          "base_uri": "https://localhost:8080/"
        },
        "id": "ezzJtAep8Ppu",
        "outputId": "98647ff7-b7e6-43c3-b66e-588a855a3973"
      },
      "outputs": [
        {
          "output_type": "stream",
          "name": "stdout",
          "text": [
            "[23, 15, 11, 9, 8, 7, 5]\n"
          ]
        }
      ],
      "source": [
        "numList=[11,23,5,7,15,9,8]\n",
        "numList.sort(reverse=True)\n",
        "print(numList)"
      ]
    },
    {
      "cell_type": "code",
      "source": [
        "score=[90,85,100,75,95]\n",
        "copyScore=list(score)\n",
        "copyScore.append(100)\n",
        "print(copyScore)\n",
        "print(score)\n"
      ],
      "metadata": {
        "colab": {
          "base_uri": "https://localhost:8080/"
        },
        "id": "_TVhTm3qSslA",
        "outputId": "97af4e90-34ea-43e1-f3e2-f385fa76421a"
      },
      "execution_count": null,
      "outputs": [
        {
          "output_type": "stream",
          "name": "stdout",
          "text": [
            "[90, 85, 100, 75, 95, 100]\n",
            "[90, 85, 100, 75, 95]\n"
          ]
        }
      ]
    },
    {
      "cell_type": "code",
      "source": [
        "num=(20,30,15,31,23)\n",
        "sum=0\n",
        "for i in range(len(num)):\n",
        "  newNum=sorted(num)\n",
        "  sum+=newNum[i]\n",
        "  print(newNum[i])\n",
        "print(f\"합계:{sum}\")"
      ],
      "metadata": {
        "colab": {
          "base_uri": "https://localhost:8080/"
        },
        "id": "lJ-OoNbIItJm",
        "outputId": "845c6286-ba9f-44dc-8069-f9b1cee28985"
      },
      "execution_count": null,
      "outputs": [
        {
          "output_type": "stream",
          "name": "stdout",
          "text": [
            "15\n",
            "20\n",
            "23\n",
            "30\n",
            "31\n",
            "합계:119\n"
          ]
        }
      ]
    },
    {
      "cell_type": "code",
      "source": [
        "student=[\n",
        "(\"인터넷\",\"이정재\",\"010-123-1234\", 90),\n",
        "(\"미디어\",\"전지현\",\"010-123-4560\", 80),\n",
        "(\"정통과\",\"송혜교\",\"010-123-2244\", 100),\n",
        "(\"컴퓨터\",\"김소현\",\"010-123-3355\", 85),\n",
        "(\"국문과\",\"강하늘\",\"010-123-7890\", 95)\n",
        "]\n",
        "newStudent=sorted(student,key=lambda x:x[3],reverse=True)\n",
        "print(\"학  과\\t이 름\\t연락처  \\t점수\")\n",
        "for i,j,k,l in newStudent:\n",
        "  print(\"{}\\t{}\\t{}\\t{}\".format(i,j,k,l))"
      ],
      "metadata": {
        "colab": {
          "base_uri": "https://localhost:8080/"
        },
        "id": "50vwN1lzOnlW",
        "outputId": "27ebad0c-1f1c-4d78-c3b1-75ec8488f68f"
      },
      "execution_count": null,
      "outputs": [
        {
          "output_type": "stream",
          "name": "stdout",
          "text": [
            "학  과\t이 름\t연락처  \t점수\n",
            "정통과\t송혜교\t010-123-2244\t100\n",
            "국문과\t강하늘\t010-123-7890\t95\n",
            "인터넷\t이정재\t010-123-1234\t90\n",
            "컴퓨터\t김소현\t010-123-3355\t85\n",
            "미디어\t전지현\t010-123-4560\t80\n"
          ]
        }
      ]
    },
    {
      "cell_type": "code",
      "source": [
        "grade={'아이키': 90, '박보검': 95, '유아인': 85, '전지현': 100, '송중기': 90}\n",
        "print(grade)\n",
        "sorted_grade=sorted(grade.items(),key=lambda k:k[1],reverse=True)\n",
        "print(sorted_grade)\n",
        "g_sum=0\n",
        "for k,v in sorted_grade:\n",
        "  print(k,v)\n",
        "  g_sum+=v\n",
        "print(\"=\"*20)\n",
        "print(\"합계:\",g_sum)"
      ],
      "metadata": {
        "colab": {
          "base_uri": "https://localhost:8080/"
        },
        "id": "cMNMeHOeQOzQ",
        "outputId": "4a75d12d-6b30-4a3d-d74b-38be3d74bd29"
      },
      "execution_count": 1,
      "outputs": [
        {
          "output_type": "stream",
          "name": "stdout",
          "text": [
            "{'아이키': 90, '박보검': 95, '유아인': 85, '전지현': 100, '송중기': 90}\n",
            "[('전지현', 100), ('박보검', 95), ('아이키', 90), ('송중기', 90), ('유아인', 85)]\n",
            "전지현 100\n",
            "박보검 95\n",
            "아이키 90\n",
            "송중기 90\n",
            "유아인 85\n",
            "====================\n",
            "합계: 460\n"
          ]
        }
      ]
    },
    {
      "cell_type": "markdown",
      "source": [],
      "metadata": {
        "id": "fBaXN5dTiEwI"
      }
    },
    {
      "cell_type": "code",
      "source": [
        "flower=[\"장미\",\"백합\",\"튤립\",\"국화\",\"수선화\"]\n",
        "for i in flower:\n",
        "  if len(i)==3:   \n",
        "    print(i)\n",
        "print();print()\n",
        "    \n",
        "        "
      ],
      "metadata": {
        "colab": {
          "base_uri": "https://localhost:8080/"
        },
        "id": "ASrKSWI2Vaqv",
        "outputId": "2b30c07f-67b4-46cb-cc5c-fbed5076ada1"
      },
      "execution_count": null,
      "outputs": [
        {
          "output_type": "stream",
          "name": "stdout",
          "text": [
            "수선화\n",
            "\n",
            "\n"
          ]
        }
      ]
    },
    {
      "cell_type": "code",
      "source": [
        "flower=[\"장미\",\"백합\",\"튤립\",\"국화\",\"수선화\"]\n",
        "flower.append(\"해바라기\")\n",
        "flower.sort(key=len,reverse=True)\n",
        "#flower.sort(key=len)\n",
        "#flower=flower[::-1]\n",
        "\n",
        "for i in flower:\n",
        " print(\"  \",i,len(i))\n",
        "\n"
      ],
      "metadata": {
        "colab": {
          "base_uri": "https://localhost:8080/"
        },
        "id": "JkyerkfP0DBp",
        "outputId": "063812fc-e38f-4506-cf1e-06bfe87345cd"
      },
      "execution_count": null,
      "outputs": [
        {
          "output_type": "stream",
          "name": "stdout",
          "text": [
            "   해바라기 4\n",
            "   수선화 3\n",
            "   장미 2\n",
            "   백합 2\n",
            "   튤립 2\n",
            "   국화 2\n"
          ]
        }
      ]
    },
    {
      "cell_type": "markdown",
      "source": [
        "수행평가"
      ],
      "metadata": {
        "id": "KttRmFZHxmzV"
      }
    },
    {
      "cell_type": "code",
      "source": [
        "movie_list=[(\"오징어게임\",50.45), (\"이터널스\",35.46),(\"그레비티\",9.8), (\"노타임투다이\",52.5),(\"스파이더맨\",15.47)]\n",
        "movie_list_dict=dict(movie_list)\n",
        "#print(movie_list_dict)\n",
        "movie_list_sorted=sorted(movie_list_dict.items(),key=lambda x:x[1],reverse=True)\n",
        "print(\"영화제목  \\t예매율   \\t순위\")\n",
        "print(\"=\"*8,\"\\t\",\"=\"*6,\"\\t\",\"=\"*4)\n",
        "rank=1\n",
        "for i,j in movie_list_sorted:\n",
        "  print(i,\"\\t\",j,\"\\t\\t\",rank)\n",
        "  rank+=1\n"
      ],
      "metadata": {
        "colab": {
          "base_uri": "https://localhost:8080/"
        },
        "id": "Bwm47JBnsW_X",
        "outputId": "12b5941b-b5a0-45d0-ce3d-8d06787f13d3"
      },
      "execution_count": 18,
      "outputs": [
        {
          "output_type": "stream",
          "name": "stdout",
          "text": [
            "영화제목  \t예매율   \t순위\n",
            "======== \t ====== \t ====\n",
            "노타임투다이 \t 52.5 \t\t 1\n",
            "오징어게임 \t 50.45 \t\t 2\n",
            "이터널스 \t 35.46 \t\t 3\n",
            "스파이더맨 \t 15.47 \t\t 4\n",
            "그레비티 \t 9.8 \t\t 5\n"
          ]
        }
      ]
    }
  ]
}