{
  "nbformat": 4,
  "nbformat_minor": 0,
  "metadata": {
    "colab": {
      "provenance": [],
      "collapsed_sections": [],
      "authorship_tag": "ABX9TyPsfquYLKQbbc0ZAao4odZ1",
      "include_colab_link": true
    },
    "kernelspec": {
      "name": "python3",
      "display_name": "Python 3"
    },
    "language_info": {
      "name": "python"
    }
  },
  "cells": [
    {
      "cell_type": "markdown",
      "metadata": {
        "id": "view-in-github",
        "colab_type": "text"
      },
      "source": [
        "<a href=\"https://colab.research.google.com/github/kimyuna36/ICT002_Python/blob/main/week3.ipynb\" target=\"_parent\"><img src=\"https://colab.research.google.com/assets/colab-badge.svg\" alt=\"Open In Colab\"/></a>"
      ]
    },
    {
      "cell_type": "code",
      "execution_count": null,
      "metadata": {
        "colab": {
          "base_uri": "https://localhost:8080/"
        },
        "id": "kgv7bohVo8uB",
        "outputId": "91c5ca31-6a96-4ecd-9245-e35503f62b02"
      },
      "outputs": [
        {
          "output_type": "stream",
          "name": "stdout",
          "text": [
            "숫자 입력:9\n",
            "10보다 작은 숫자 입니다.\n",
            "프로그램을 종료합니다.\n"
          ]
        }
      ],
      "source": [
        "num=int(input(\"숫자 입력:\"))\n",
        "if num<10:\n",
        "  print(\"10보다 작은 숫자 입니다.\")\n",
        "  print(\"프로그램을 종료합니다.\")\n"
      ]
    },
    {
      "cell_type": "code",
      "source": [
        "num1=int(input(\"소프트웨어 설계:\"))\n",
        "num2=int(input(\"소프트웨어 개발:\"))\n",
        "num3=int(input(\"데이터베이스 구축:\"))\n",
        "num4=int(input(\"프로그래밍 언어 활용:\"))\n",
        "num5=int(input(\"정보시스템 구축 관리:\"))\n",
        "avg=(num1+num2+num3+num4+num5)/5\n",
        "print(\"평균:\",avg)\n",
        "\n",
        "if avg>60:\n",
        "  print(\"결과: 합격\")\n",
        "else:\n",
        "  print(\"결과: 불합격\")\n",
        "\n"
      ],
      "metadata": {
        "colab": {
          "base_uri": "https://localhost:8080/"
        },
        "id": "KPzPQh1TsMLx",
        "outputId": "4e998b0c-6522-44ab-8718-29500a0d482a"
      },
      "execution_count": null,
      "outputs": [
        {
          "output_type": "stream",
          "name": "stdout",
          "text": [
            "소프트웨어 설계:70\n",
            "소프트웨어 개발:70\n",
            "데이터베이스 구축:70\n",
            "프로그래밍 언어 활용:70\n",
            "정보시스템 구축 관리:70\n",
            "평균: 70.0\n",
            "결과: 합격\n"
          ]
        }
      ]
    },
    {
      "cell_type": "code",
      "source": [
        "num=float(input(\"이번 학기 학점:\"))\n",
        "if num>=4.0:\n",
        "  print(\"장학금 신청 대상\")\n",
        "else :\n",
        "  print(\"장학금 학점 미달\")"
      ],
      "metadata": {
        "id": "0lCvpaFAu6mn"
      },
      "execution_count": null,
      "outputs": []
    },
    {
      "cell_type": "code",
      "source": [
        "num=int(input(\"어떤 수?\"))\n",
        "if num%2==1:\n",
        "  print(\"입력한 수\",num,\"는 홀수이다.\")\n",
        "else:\n",
        "  print(\"입력한 수\", num,\"는 짝수이다.\")"
      ],
      "metadata": {
        "colab": {
          "base_uri": "https://localhost:8080/"
        },
        "id": "K7jjnmdNwjdM",
        "outputId": "4eef4338-5e51-4fbf-e2cf-63d1224e9b98"
      },
      "execution_count": null,
      "outputs": [
        {
          "output_type": "stream",
          "name": "stdout",
          "text": [
            "어떤 수?2\n",
            "입력한 수 2 는 짝수이다.\n"
          ]
        }
      ]
    },
    {
      "cell_type": "code",
      "source": [
        "num=int(input(\"어떤 수?\"))\n",
        "if num<50:\n",
        "  print(\"입력한 수\",num,\"은(는) 50보다 작습니다.\")\n",
        "else:\n",
        "  if num<100:\n",
        "   print(\"입력한 수\",num,\"은(는) 50보다 크고 100보다 작습니다.\")\n",
        "  else:\n",
        "    print(\"입력한 수\",num,\"은(는) 100보다 큽니다.\")\n"
      ],
      "metadata": {
        "colab": {
          "base_uri": "https://localhost:8080/"
        },
        "id": "Tg-ADHcMyr8D",
        "outputId": "d0f1e6d9-ac6b-4c0e-86d4-3a1422a5f6bf"
      },
      "execution_count": null,
      "outputs": [
        {
          "output_type": "stream",
          "name": "stdout",
          "text": [
            "어떤 수?55\n",
            "입력한 수 55 은(는) 50보다 크고 100보다 작습니다.\n"
          ]
        }
      ]
    },
    {
      "cell_type": "code",
      "source": [
        "num=int(input(\"어떤 수?\"))\n",
        "if num>999:\n",
        "  print(\"네 자릿수 숫자입니다.\")\n",
        "elif num>99:\n",
        "  print(\"세 자릿수 숫자입니다.\")\n",
        "elif num>9:\n",
        "  print(\"두 자릿수 숫자입니다.\")\n",
        "else:\n",
        "  print(\"한 자릿수 숫자입니다.\")"
      ],
      "metadata": {
        "colab": {
          "base_uri": "https://localhost:8080/"
        },
        "id": "ZovBCToE6iGS",
        "outputId": "774c24ce-5b8f-4dc3-8d3b-588ff78e2080"
      },
      "execution_count": null,
      "outputs": [
        {
          "output_type": "stream",
          "name": "stdout",
          "text": [
            "어떤 수?23\n",
            "두 자릿수 숫자입니다.\n"
          ]
        }
      ]
    },
    {
      "cell_type": "code",
      "source": [
        "code=int(input(\"교수 교과목 코드:\"))\n",
        "subject=[1203,1250,1275,1290]\n",
        "if code==1203:\n",
        "  print('파이썬 프로그래밍')\n",
        "elif code==1250:\n",
        "  print('컴퓨팅 사고')\n",
        "elif code==1275:\n",
        "  print('빅 데이터')\n",
        "elif code==1290:\n",
        "  print('IoT')\n",
        "else:\n",
        "  print(\"해당 강좌 없음\")\n"
      ],
      "metadata": {
        "colab": {
          "base_uri": "https://localhost:8080/"
        },
        "id": "teEi_Ght_AH2",
        "outputId": "a312646c-9eb1-4fb5-a457-f066888ff8d1"
      },
      "execution_count": null,
      "outputs": [
        {
          "output_type": "stream",
          "name": "stdout",
          "text": [
            "교수 교과목 코드:1203\n",
            "파이썬 프로그래밍\n"
          ]
        }
      ]
    },
    {
      "cell_type": "code",
      "source": [
        "weight=float(input(\"몸무게?\"))\n",
        "if weight>88.45:\n",
        "  print(\"Heavyweight\")\n",
        "else:\n",
        "  if weight>72.57:\n",
        "    print(\"Cruiseweight\")\n",
        "  else:\n",
        "    if weight>61.23:\n",
        "      print(\"Middleweight\")\n",
        "    else:\n",
        "      if weight>50.80:\n",
        "        print(\"Lightweight\")\n",
        "      else:\n",
        "        print(\"Flyweight\")\n",
        "\n"
      ],
      "metadata": {
        "colab": {
          "base_uri": "https://localhost:8080/"
        },
        "id": "3PS-tXoFBTTQ",
        "outputId": "259e686a-755f-4a52-c8ba-3101f89b4969"
      },
      "execution_count": null,
      "outputs": [
        {
          "output_type": "stream",
          "name": "stdout",
          "text": [
            "몸무게?51\n",
            "Lightweight\n"
          ]
        }
      ]
    },
    {
      "cell_type": "code",
      "source": [
        "month=int(input(\"월?\"))\n",
        "num1=[1,3,5,7,8,10,12]\n",
        "num2=[4,6,9,11]\n",
        "if month in num1:\n",
        "  print(\"31\")\n",
        "elif month in num2:\n",
        "  print(\"30\")\n",
        "else:\n",
        "  print(\"28\")"
      ],
      "metadata": {
        "colab": {
          "base_uri": "https://localhost:8080/"
        },
        "id": "htYQqvgaEiBj",
        "outputId": "211235c8-5d8c-4e78-f5f6-c6d19c5ce8e9"
      },
      "execution_count": null,
      "outputs": [
        {
          "output_type": "stream",
          "name": "stdout",
          "text": [
            "월?6\n",
            "30\n"
          ]
        }
      ]
    },
    {
      "cell_type": "code",
      "source": [
        "dice=[]\n",
        "a,b,c,d,e,f=0\n",
        "\n",
        "if len(dice)<11:\n",
        " num=int(input('입력하세요:'))\n",
        " dice.append(num)\n",
        "  if num==1:\n",
        "   a+=1\n",
        "  elif num==2:\n",
        "   b+=1\n",
        "  elif num==2:\n",
        "  \n",
        " \n",
        "print(dice)"
      ],
      "metadata": {
        "colab": {
          "base_uri": "https://localhost:8080/",
          "height": 398
        },
        "id": "c9PntrENIGr5",
        "outputId": "fa605570-aac1-4968-97d8-896f9fbb5118"
      },
      "execution_count": null,
      "outputs": [
        {
          "output_type": "error",
          "ename": "KeyboardInterrupt",
          "evalue": "ignored",
          "traceback": [
            "\u001b[0;31m---------------------------------------------------------------------------\u001b[0m",
            "\u001b[0;31mKeyboardInterrupt\u001b[0m                         Traceback (most recent call last)",
            "\u001b[0;32m<ipython-input-45-f1afc03e2536>\u001b[0m in \u001b[0;36m<module>\u001b[0;34m\u001b[0m\n\u001b[1;32m      1\u001b[0m \u001b[0mdice\u001b[0m\u001b[0;34m=\u001b[0m\u001b[0;34m[\u001b[0m\u001b[0;34m]\u001b[0m\u001b[0;34m\u001b[0m\u001b[0;34m\u001b[0m\u001b[0m\n\u001b[0;32m----> 2\u001b[0;31m \u001b[0mnum\u001b[0m\u001b[0;34m=\u001b[0m\u001b[0mint\u001b[0m\u001b[0;34m(\u001b[0m\u001b[0minput\u001b[0m\u001b[0;34m(\u001b[0m\u001b[0;34m'입력하세요:'\u001b[0m\u001b[0;34m)\u001b[0m\u001b[0;34m)\u001b[0m\u001b[0;34m\u001b[0m\u001b[0;34m\u001b[0m\u001b[0m\n\u001b[0m\u001b[1;32m      3\u001b[0m \u001b[0mdice\u001b[0m\u001b[0;34m.\u001b[0m\u001b[0mappend\u001b[0m\u001b[0;34m(\u001b[0m\u001b[0mnum\u001b[0m\u001b[0;34m)\u001b[0m\u001b[0;34m\u001b[0m\u001b[0;34m\u001b[0m\u001b[0m\n\u001b[1;32m      4\u001b[0m \u001b[0mprint\u001b[0m\u001b[0;34m(\u001b[0m\u001b[0mdice\u001b[0m\u001b[0;34m)\u001b[0m\u001b[0;34m\u001b[0m\u001b[0;34m\u001b[0m\u001b[0m\n",
            "\u001b[0;32m/usr/local/lib/python3.7/dist-packages/ipykernel/kernelbase.py\u001b[0m in \u001b[0;36mraw_input\u001b[0;34m(self, prompt)\u001b[0m\n\u001b[1;32m    861\u001b[0m             \u001b[0mself\u001b[0m\u001b[0;34m.\u001b[0m\u001b[0m_parent_ident\u001b[0m\u001b[0;34m,\u001b[0m\u001b[0;34m\u001b[0m\u001b[0;34m\u001b[0m\u001b[0m\n\u001b[1;32m    862\u001b[0m             \u001b[0mself\u001b[0m\u001b[0;34m.\u001b[0m\u001b[0m_parent_header\u001b[0m\u001b[0;34m,\u001b[0m\u001b[0;34m\u001b[0m\u001b[0;34m\u001b[0m\u001b[0m\n\u001b[0;32m--> 863\u001b[0;31m             \u001b[0mpassword\u001b[0m\u001b[0;34m=\u001b[0m\u001b[0;32mFalse\u001b[0m\u001b[0;34m,\u001b[0m\u001b[0;34m\u001b[0m\u001b[0;34m\u001b[0m\u001b[0m\n\u001b[0m\u001b[1;32m    864\u001b[0m         )\n\u001b[1;32m    865\u001b[0m \u001b[0;34m\u001b[0m\u001b[0m\n",
            "\u001b[0;32m/usr/local/lib/python3.7/dist-packages/ipykernel/kernelbase.py\u001b[0m in \u001b[0;36m_input_request\u001b[0;34m(self, prompt, ident, parent, password)\u001b[0m\n\u001b[1;32m    902\u001b[0m             \u001b[0;32mexcept\u001b[0m \u001b[0mKeyboardInterrupt\u001b[0m\u001b[0;34m:\u001b[0m\u001b[0;34m\u001b[0m\u001b[0;34m\u001b[0m\u001b[0m\n\u001b[1;32m    903\u001b[0m                 \u001b[0;31m# re-raise KeyboardInterrupt, to truncate traceback\u001b[0m\u001b[0;34m\u001b[0m\u001b[0;34m\u001b[0m\u001b[0;34m\u001b[0m\u001b[0m\n\u001b[0;32m--> 904\u001b[0;31m                 \u001b[0;32mraise\u001b[0m \u001b[0mKeyboardInterrupt\u001b[0m\u001b[0;34m(\u001b[0m\u001b[0;34m\"Interrupted by user\"\u001b[0m\u001b[0;34m)\u001b[0m \u001b[0;32mfrom\u001b[0m \u001b[0;32mNone\u001b[0m\u001b[0;34m\u001b[0m\u001b[0;34m\u001b[0m\u001b[0m\n\u001b[0m\u001b[1;32m    905\u001b[0m             \u001b[0;32mexcept\u001b[0m \u001b[0mException\u001b[0m \u001b[0;32mas\u001b[0m \u001b[0me\u001b[0m\u001b[0;34m:\u001b[0m\u001b[0;34m\u001b[0m\u001b[0;34m\u001b[0m\u001b[0m\n\u001b[1;32m    906\u001b[0m                 \u001b[0mself\u001b[0m\u001b[0;34m.\u001b[0m\u001b[0mlog\u001b[0m\u001b[0;34m.\u001b[0m\u001b[0mwarning\u001b[0m\u001b[0;34m(\u001b[0m\u001b[0;34m\"Invalid Message:\"\u001b[0m\u001b[0;34m,\u001b[0m \u001b[0mexc_info\u001b[0m\u001b[0;34m=\u001b[0m\u001b[0;32mTrue\u001b[0m\u001b[0;34m)\u001b[0m\u001b[0;34m\u001b[0m\u001b[0;34m\u001b[0m\u001b[0m\n",
            "\u001b[0;31mKeyboardInterrupt\u001b[0m: Interrupted by user"
          ]
        }
      ]
    },
    {
      "cell_type": "code",
      "source": [
        "\n",
        "\n",
        "number=list(map(int,input().split()))\n",
        "print(number)\n",
        "print('1:',number.count(1))\n",
        "print('2:',number.count(2))\n",
        "print('3:',number.count(3))\n",
        "print('4:',number.count(4))\n",
        "print('5:',number.count(5))\n",
        "print('6:',number.count(6))\n"
      ],
      "metadata": {
        "id": "HdJFzpltLbyl"
      },
      "execution_count": null,
      "outputs": []
    },
    {
      "cell_type": "markdown",
      "source": [
        "수행평가1\n"
      ],
      "metadata": {
        "id": "XwuXpL1KFkwP"
      }
    },
    {
      "cell_type": "code",
      "source": [
        "num=int(input(\"용도: 1.주택용, 2:공업용, 3.:산업용?\"))\n",
        "kwh=int(input(\"사용량(kwh)?\"))\n",
        "if 1:\n",
        "  bill=910+88*kwh\n",
        "else:\n",
        "  if 2:\n",
        "    bill=1600+182*kwh\n",
        "  else:\n",
        "    bill=7300+275*kwh\n",
        "\n",
        "print(f\"용도:{num},사용량:{kwh:,.2f},전기요금:{bill:,.2f}원\")"
      ],
      "metadata": {
        "colab": {
          "base_uri": "https://localhost:8080/"
        },
        "id": "mWoWvkbeC5bS",
        "outputId": "6e72e420-6b24-4017-b49a-8601204baa55"
      },
      "execution_count": 3,
      "outputs": [
        {
          "output_type": "stream",
          "name": "stdout",
          "text": [
            "용도: 1.주택용, 2:공업용, 3.:산업용?1\n",
            "사용량(kwh)?57\n",
            "용도:1,사용량:57.00,전기요금:5,926.00원\n"
          ]
        }
      ]
    },
    {
      "cell_type": "markdown",
      "source": [
        "수행평가2"
      ],
      "metadata": {
        "id": "J4CFToTXFnyv"
      }
    },
    {
      "cell_type": "code",
      "source": [
        "name=str(input(\"이름:\"))\n",
        "kor=int(input(\"국어점수:\"))\n",
        "eng=int(input(\"영어점수:\"))\n",
        "math=int(input(\"수학점수:\"))\n",
        "total=kor+eng+math\n",
        "avg=total/3\n",
        "if avg>=95:\n",
        "  grade=\"A+\"\n",
        "elif avg>=90:\n",
        "  grade=\"A\"\n",
        "elif avg>=85:\n",
        "  grade=\"B+\"\n",
        "elif avg>=80:\n",
        "  grade=\"B\"\n",
        "elif avg>=75:\n",
        "  grade=\"C+\"\n",
        "elif avg>=70:\n",
        "  grade=\"C\"\n",
        "elif avg>=65:\n",
        "  grade=\"D+\"\n",
        "elif avg>=60:\n",
        "  grade=\"D\"\n",
        "else:\n",
        "  grade=\"F\"\n",
        "print(f\"{name}의 총점은 {total}점, 평균은 {avg:,.2f}점, 학점은 {grade}학점 입니다.\")"
      ],
      "metadata": {
        "colab": {
          "base_uri": "https://localhost:8080/"
        },
        "id": "5Y-vbDwsFje7",
        "outputId": "fabf6ac6-4fbf-4665-a884-c7d4f0dada9a"
      },
      "execution_count": 9,
      "outputs": [
        {
          "output_type": "stream",
          "name": "stdout",
          "text": [
            "이름:홍길동\n",
            "국어점수:90\n",
            "영어점수:80\n",
            "수학점수:75\n",
            "홍길동의 총점은 245점, 평균은 81.67점, 학점은 B학점 입니다.\n"
          ]
        }
      ]
    }
  ]
}