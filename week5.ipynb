{
  "nbformat": 4,
  "nbformat_minor": 0,
  "metadata": {
    "colab": {
      "provenance": [],
      "collapsed_sections": [],
      "authorship_tag": "ABX9TyMJvtSPuh0ip9AJCI60nWpU",
      "include_colab_link": true
    },
    "kernelspec": {
      "name": "python3",
      "display_name": "Python 3"
    },
    "language_info": {
      "name": "python"
    }
  },
  "cells": [
    {
      "cell_type": "markdown",
      "metadata": {
        "id": "view-in-github",
        "colab_type": "text"
      },
      "source": [
        "<a href=\"https://colab.research.google.com/github/kimyuna36/ICT002_Python/blob/main/week5.ipynb\" target=\"_parent\"><img src=\"https://colab.research.google.com/assets/colab-badge.svg\" alt=\"Open In Colab\"/></a>"
      ]
    },
    {
      "cell_type": "code",
      "execution_count": null,
      "metadata": {
        "colab": {
          "base_uri": "https://localhost:8080/"
        },
        "id": "8CQsc6Whiul8",
        "outputId": "34c20bbb-7888-4352-d31d-c8d13db6f5eb"
      },
      "outputs": [
        {
          "output_type": "stream",
          "name": "stdout",
          "text": [
            "ABCDE\n",
            "ABCDE\n",
            "ABCDE\n",
            "ABCDE\n",
            "ABCDE\n"
          ]
        }
      ],
      "source": [
        "for i in range(1,6,1):\n",
        "  for j in range(65,70,1):\n",
        "    print(chr(j),end=\"\")\n",
        "  print()"
      ]
    },
    {
      "cell_type": "code",
      "source": [
        "for i in range(0,5,1):\n",
        "  for j in range(0,i+1,1):\n",
        "    print(j+1,end=\"\")\n",
        "  print()"
      ],
      "metadata": {
        "colab": {
          "base_uri": "https://localhost:8080/"
        },
        "id": "6z9OsD97tpBr",
        "outputId": "0826bd9e-8dd3-4114-ab2e-7e1b605d91f1"
      },
      "execution_count": null,
      "outputs": [
        {
          "output_type": "stream",
          "name": "stdout",
          "text": [
            "1\n",
            "12\n",
            "123\n",
            "1234\n",
            "12345\n"
          ]
        }
      ]
    },
    {
      "cell_type": "code",
      "source": [
        "for i in range(0,5,1):\n",
        "  for j in range(0,i+1,1):\n",
        "    print(chr(j+65),end=\"\")\n",
        "  print()"
      ],
      "metadata": {
        "colab": {
          "base_uri": "https://localhost:8080/"
        },
        "id": "EVrLcVs2uDjA",
        "outputId": "4d6d9450-fdc4-47d7-d1e8-d93e3eac63a4"
      },
      "execution_count": null,
      "outputs": [
        {
          "output_type": "stream",
          "name": "stdout",
          "text": [
            "A\n",
            "AB\n",
            "ABC\n",
            "ABCD\n",
            "ABCDE\n"
          ]
        }
      ]
    },
    {
      "cell_type": "code",
      "source": [
        "for i in range(1,6,1):\n",
        "  for j in range(1,i+1,1):\n",
        "    print(chr(64+j),end=\"\")\n",
        "    \n",
        "  print()"
      ],
      "metadata": {
        "colab": {
          "base_uri": "https://localhost:8080/"
        },
        "id": "WvVMsOEQozPm",
        "outputId": "3bbeae7e-18fb-4a39-9cd3-07e7f2e6ff48"
      },
      "execution_count": null,
      "outputs": [
        {
          "output_type": "stream",
          "name": "stdout",
          "text": [
            "A\n",
            "AB\n",
            "ABC\n",
            "ABCD\n",
            "ABCDE\n"
          ]
        }
      ]
    },
    {
      "cell_type": "code",
      "source": [
        "for i in range(1,6,1):\n",
        "  for j in range(1,i+1,1):\n",
        "    print(j,end=\"\")\n",
        "  print()"
      ],
      "metadata": {
        "colab": {
          "base_uri": "https://localhost:8080/"
        },
        "id": "H0ume2Wkm0q_",
        "outputId": "38fccb4e-23c6-4b04-ec3b-66fd4e0124b9"
      },
      "execution_count": null,
      "outputs": [
        {
          "output_type": "stream",
          "name": "stdout",
          "text": [
            "1\n",
            "12\n",
            "123\n",
            "1234\n",
            "12345\n"
          ]
        }
      ]
    },
    {
      "cell_type": "code",
      "source": [
        "for i in range(1,6,1):\n",
        "  for j in range(1,i+1,1):\n",
        "    print(j-1,end=\"\")\n",
        "  print()"
      ],
      "metadata": {
        "colab": {
          "base_uri": "https://localhost:8080/"
        },
        "id": "oNtAeAr1smed",
        "outputId": "39d0d26d-3211-45c2-af38-39d6b9b77e8c"
      },
      "execution_count": null,
      "outputs": [
        {
          "output_type": "stream",
          "name": "stdout",
          "text": [
            "0\n",
            "01\n",
            "012\n",
            "0123\n",
            "01234\n"
          ]
        }
      ]
    },
    {
      "cell_type": "code",
      "source": [
        "chr(65)"
      ],
      "metadata": {
        "colab": {
          "base_uri": "https://localhost:8080/",
          "height": 35
        },
        "id": "DeAQNkdEja7L",
        "outputId": "d3978ec3-b7ff-4923-d0c5-17268464cac0"
      },
      "execution_count": null,
      "outputs": [
        {
          "output_type": "execute_result",
          "data": {
            "text/plain": [
              "'A'"
            ],
            "application/vnd.google.colaboratory.intrinsic+json": {
              "type": "string"
            }
          },
          "metadata": {},
          "execution_count": 2
        }
      ]
    },
    {
      "cell_type": "code",
      "source": [
        "num=int(input(\"숫자 하나를 입력하시오:\"))\n",
        "for i in range(num):\n",
        "  print(i,end=\" \")\n",
        "  if i==5:\n",
        "    break\n",
        "\n",
        "\n"
      ],
      "metadata": {
        "colab": {
          "base_uri": "https://localhost:8080/"
        },
        "id": "p0o41lQC1Q9K",
        "outputId": "4bf558b3-035c-46b9-a9fb-d0870d882289"
      },
      "execution_count": null,
      "outputs": [
        {
          "output_type": "stream",
          "name": "stdout",
          "text": [
            "숫자 하나를 입력하시오:7\n",
            "0 1 2 3 4 5 "
          ]
        }
      ]
    },
    {
      "cell_type": "code",
      "source": [
        "sum=0\n",
        "while True:#무한 반복 조건이 참\n",
        "    #사용자 입력\n",
        "    value=int(input('숫자: '))\n",
        "    sum+=value\n",
        "    #탈출조건 \n",
        "    if value==0:\n",
        "      break\n",
        "\n",
        "print(f\"합계:{sum}\")"
      ],
      "metadata": {
        "colab": {
          "base_uri": "https://localhost:8080/"
        },
        "id": "psPCRKen4QG1",
        "outputId": "5cf0b371-84b4-4732-b03c-9d574176c911"
      },
      "execution_count": null,
      "outputs": [
        {
          "output_type": "stream",
          "name": "stdout",
          "text": [
            "숫자: 3\n",
            "숫자: 4\n",
            "숫자: 5\n",
            "숫자: 0\n",
            "합계:12\n"
          ]
        }
      ]
    },
    {
      "cell_type": "code",
      "source": [
        "sum=0\n",
        "while True:#무한 반복 조건이 참\n",
        "    #사용자 입력\n",
        "    value=int(input('숫자: '))\n",
        "    \n",
        "    #탈출조건 \n",
        "    if value>=100:\n",
        "      break\n",
        "      \n",
        "    sum+=value\n",
        "\n",
        "print(f\"합계:{sum}\")"
      ],
      "metadata": {
        "colab": {
          "base_uri": "https://localhost:8080/"
        },
        "id": "xxg4yeBl55HF",
        "outputId": "61bbd45b-53ef-4b23-e7bd-eef0fa8f7e4e"
      },
      "execution_count": null,
      "outputs": [
        {
          "output_type": "stream",
          "name": "stdout",
          "text": [
            "숫자: 10\n",
            "숫자: 3\n",
            "숫자: 101\n",
            "합계:13\n"
          ]
        }
      ]
    },
    {
      "cell_type": "code",
      "source": [
        "sum=0\n",
        "while True:#무한 반복 조건이 참\n",
        "    #사용자 입력\n",
        "    value=int(input('숫자: '))\n",
        "    \n",
        "    #탈출조건 \n",
        "    if value>=100:\n",
        "      break\n",
        "    else:  \n",
        "      sum+=value\n",
        "\n",
        "print(f\"합계:{sum}\")"
      ],
      "metadata": {
        "colab": {
          "base_uri": "https://localhost:8080/"
        },
        "id": "z3TrFKUf6xyY",
        "outputId": "17f148e8-5ba6-4079-ab36-7c7b343849dc"
      },
      "execution_count": null,
      "outputs": [
        {
          "output_type": "stream",
          "name": "stdout",
          "text": [
            "숫자: 10\n",
            "숫자: 3\n",
            "숫자: 9\n",
            "숫자: 101\n",
            "합계:22\n"
          ]
        }
      ]
    },
    {
      "cell_type": "code",
      "source": [
        "ans=\"코알라\"\n",
        "cnt=0\n",
        "while True:\n",
        "  user=input(\"내가 좋아하는 동물?\")\n",
        "  cnt+=1\n",
        "  if user==ans:\n",
        "    print(f\"{cnt}회만에 정답을 맞추셨습니다.\")\n",
        "    break\n",
        "  "
      ],
      "metadata": {
        "colab": {
          "base_uri": "https://localhost:8080/"
        },
        "id": "3by9HSb07Inl",
        "outputId": "185dae9d-aa23-471b-8ed4-61e46bfb3dd7"
      },
      "execution_count": null,
      "outputs": [
        {
          "output_type": "stream",
          "name": "stdout",
          "text": [
            "내가 좋아하는 동물?강아지\n",
            "내가 좋아하는 동물?기린\n",
            "내가 좋아하는 동물?코알라\n",
            "3회만에 정답을 맞추셨습니다.\n"
          ]
        }
      ]
    },
    {
      "cell_type": "code",
      "source": [
        "nums=[10,5,77,13,106,1]\n",
        "\n",
        "for item in nums:\n",
        "\n",
        "  if item %2==0:\n",
        "    continue\n",
        "  \n",
        "  print(item,end=\" \")"
      ],
      "metadata": {
        "colab": {
          "base_uri": "https://localhost:8080/"
        },
        "id": "noSkmprW87T8",
        "outputId": "ecc4194c-168d-463f-980d-108b246aaad1"
      },
      "execution_count": null,
      "outputs": [
        {
          "output_type": "stream",
          "name": "stdout",
          "text": [
            "5 77 13 1 "
          ]
        }
      ]
    },
    {
      "cell_type": "code",
      "source": [
        "sum=0\n",
        "for i in range(5):\n",
        "  user=int(input(\"어떤 수?\"))\n",
        "  if user<0:\n",
        "      continue\n",
        "  sum+=user\n",
        "print(f\"양수 합계:{sum}\")\n"
      ],
      "metadata": {
        "colab": {
          "base_uri": "https://localhost:8080/"
        },
        "id": "vel1pOzR9lK2",
        "outputId": "0ac1da51-3bbb-4b24-a2ed-586319cce788"
      },
      "execution_count": null,
      "outputs": [
        {
          "output_type": "stream",
          "name": "stdout",
          "text": [
            "어떤 수?1\n",
            "어떤 수?2\n",
            "어떤 수?3\n",
            "어떤 수?-3\n",
            "어떤 수?4\n",
            "10\n"
          ]
        }
      ]
    },
    {
      "cell_type": "code",
      "source": [
        "num=[]\n",
        "num.count(10)\n",
        "#10의 개수\n"
      ],
      "metadata": {
        "id": "Uw6YA7JlDIRE"
      },
      "execution_count": null,
      "outputs": []
    },
    {
      "cell_type": "code",
      "source": [
        "num=[15,23,18,47,23]\n",
        "even=0\n",
        "odd=0\n",
        "for i in num:\n",
        "  if i%2==0:\n",
        "    even+=1\n",
        "  else:\n",
        "    odd+=1\n",
        "print(f\"홀수 개수={odd}개 \\n짝수 개수={even}개\")\n"
      ],
      "metadata": {
        "colab": {
          "base_uri": "https://localhost:8080/"
        },
        "id": "iFbmFKBlFV36",
        "outputId": "893e0901-6451-4198-818e-bd2c5e486089"
      },
      "execution_count": null,
      "outputs": [
        {
          "output_type": "stream",
          "name": "stdout",
          "text": [
            "홀수 개수=4개 \n",
            "짝수 개수=1개\n"
          ]
        }
      ]
    },
    {
      "cell_type": "markdown",
      "source": [
        "수행평가1"
      ],
      "metadata": {
        "id": "o2x0LHxIgPen"
      }
    },
    {
      "cell_type": "code",
      "source": [
        "for i in range(1,6,1):\n",
        "  for j in range(1,6,1):\n",
        "    if i>j:\n",
        "      print(\" \",end='')\n",
        "    else:\n",
        "      print(j,end='')\n",
        "  print()\n"
      ],
      "metadata": {
        "colab": {
          "base_uri": "https://localhost:8080/"
        },
        "id": "MvX5elCyHQAj",
        "outputId": "ba0cc37b-cd37-4ee4-9ad1-565ea377bbe1"
      },
      "execution_count": null,
      "outputs": [
        {
          "output_type": "stream",
          "name": "stdout",
          "text": [
            "12345\n",
            " 2345\n",
            "  345\n",
            "   45\n",
            "    5\n"
          ]
        }
      ]
    },
    {
      "cell_type": "markdown",
      "source": [
        "수행평가2"
      ],
      "metadata": {
        "id": "j6xPO-ugoc3U"
      }
    },
    {
      "cell_type": "code",
      "source": [
        "\n",
        "num=int(input(\"숫자 입력:\"))\n",
        "if num==0:\n",
        "  print(f\"{num}(은)는 소수가 아닙니다.\")\n",
        "elif num==1:\n",
        "  print(f\"{num}(은)는 소수가 아닙니다.\")\n",
        "elif num%2==0:\n",
        "  print(f\"{num}(은)는 소수가 아닙니다.\")\n",
        "elif num%3==0:\n",
        "  print(f\"{num}(은)는 소수가 아닙니다.\")\n",
        "elif num%5==0:\n",
        "  print(f\"{num}(은)는 소수가 아닙니다.\")\n",
        "elif num%7==0:\n",
        "  print(f\"{num}(은)는 소수가 아닙니다.\")\n",
        "else:\n",
        "    print(f\"{num}(은)는 소수입니다.\")"
      ],
      "metadata": {
        "id": "txPAFyBna533",
        "colab": {
          "base_uri": "https://localhost:8080/"
        },
        "outputId": "1907dc82-d50e-45b5-edc7-e6918a2702db"
      },
      "execution_count": null,
      "outputs": [
        {
          "output_type": "stream",
          "name": "stdout",
          "text": [
            "숫자 입력:90\n",
            "90(은)는 소수가 아닙니다.\n"
          ]
        }
      ]
    },
    {
      "cell_type": "code",
      "source": [
        "alphaList=[\"a\",\"b\",\"c\",\"d\",\"e\",\"f\",\"g\",\"h\"]\n",
        "print(alphaList[4])\n",
        "print(alphaList[-5])\n",
        "\n"
      ],
      "metadata": {
        "colab": {
          "base_uri": "https://localhost:8080/"
        },
        "id": "15xc2DhiLdYD",
        "outputId": "97ba0630-0518-4ac7-d873-0e3209e3dee9"
      },
      "execution_count": null,
      "outputs": [
        {
          "output_type": "stream",
          "name": "stdout",
          "text": [
            "e\n",
            "d\n"
          ]
        }
      ]
    },
    {
      "cell_type": "code",
      "source": [
        "alphaList=[\"a\",\"b\",\"c\",\"d\",\"e\",\"f\",\"g\",\"h\"]\n",
        "print(alphaList[2:6])\n",
        "print(alphaList[-6:-2])\n",
        "      "
      ],
      "metadata": {
        "colab": {
          "base_uri": "https://localhost:8080/"
        },
        "id": "YlzFfpNWMgx8",
        "outputId": "e2509010-85f9-4ae4-82ea-926bc0998d0e"
      },
      "execution_count": null,
      "outputs": [
        {
          "output_type": "stream",
          "name": "stdout",
          "text": [
            "['c', 'd', 'e', 'f']\n",
            "['c', 'd', 'e', 'f']\n"
          ]
        }
      ]
    }
  ]
}