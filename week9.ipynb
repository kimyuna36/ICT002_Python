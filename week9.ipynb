{
  "nbformat": 4,
  "nbformat_minor": 0,
  "metadata": {
    "colab": {
      "provenance": [],
      "authorship_tag": "ABX9TyMFfqmDoPBJ2GsnrcKVOxbX",
      "include_colab_link": true
    },
    "kernelspec": {
      "name": "python3",
      "display_name": "Python 3"
    },
    "language_info": {
      "name": "python"
    }
  },
  "cells": [
    {
      "cell_type": "markdown",
      "metadata": {
        "id": "view-in-github",
        "colab_type": "text"
      },
      "source": [
        "<a href=\"https://colab.research.google.com/github/kimyuna36/ICT002_Python/blob/main/week9.ipynb\" target=\"_parent\"><img src=\"https://colab.research.google.com/assets/colab-badge.svg\" alt=\"Open In Colab\"/></a>"
      ]
    },
    {
      "cell_type": "code",
      "execution_count": null,
      "metadata": {
        "id": "M2Eq2dGBiEl4"
      },
      "outputs": [],
      "source": [
        "def myFunction():\n",
        "  langStr=(\"Java\",\"C\",\"Python\",\"R\",\"Web\")\n",
        "  x = list(langStr)\n",
        "  x.sort(key = len, reverse = True)\n",
        "  y = list(map(lambda x:len(x), langStr))\n",
        "  y.sort(reverse = True)\n",
        "  for i in range(0,5):\n",
        "    print(f\"{x[i]}\\t{y[i]}\")\n",
        "\n",
        "myFunction()"
      ]
    }
  ]
}