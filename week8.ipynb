{
  "nbformat": 4,
  "nbformat_minor": 0,
  "metadata": {
    "colab": {
      "provenance": [],
      "authorship_tag": "ABX9TyMt+IR+sVgNNl6WQfBjqe4e",
      "include_colab_link": true
    },
    "kernelspec": {
      "name": "python3",
      "display_name": "Python 3"
    },
    "language_info": {
      "name": "python"
    }
  },
  "cells": [
    {
      "cell_type": "markdown",
      "metadata": {
        "id": "view-in-github",
        "colab_type": "text"
      },
      "source": [
        "<a href=\"https://colab.research.google.com/github/kimyuna36/ICT002_Python/blob/main/week8.ipynb\" target=\"_parent\"><img src=\"https://colab.research.google.com/assets/colab-badge.svg\" alt=\"Open In Colab\"/></a>"
      ]
    },
    {
      "cell_type": "code",
      "execution_count": null,
      "metadata": {
        "colab": {
          "base_uri": "https://localhost:8080/"
        },
        "id": "G_gGUTvc7I_-",
        "outputId": "13ba6355-02fb-4fc7-ba9c-17c7f2fc2a8a"
      },
      "outputs": [
        {
          "output_type": "stream",
          "name": "stdout",
          "text": [
            "이름:김유나\n",
            "나이:23\n",
            "이름은김유나이고 나이는23이다.\n"
          ]
        }
      ],
      "source": [
        "def myFunction():\n",
        "  name=input(\"이름:\")\n",
        "  age=int(input(\"나이:\"))\n",
        "  print(\"이름은{}이고 나이는{}이다.\".format(name,age))\n",
        "\n",
        "myFunction()"
      ]
    },
    {
      "cell_type": "code",
      "source": [
        "#사용자에게 숫자를 입력받아 factorial을 출력하는 함수를 작성하시오.\n",
        "x=int(input(\"어떤 숫자:\"))\n",
        "facotial=1\n",
        "\n",
        "for i in range(x,0,-1):\n",
        "  factorial*=i\n",
        "print(f'{x}!={factorial}')"
      ],
      "metadata": {
        "id": "yZbRZfk-7zhm"
      },
      "execution_count": null,
      "outputs": []
    },
    {
      "cell_type": "code",
      "source": [
        "def myCumSum(a):\n",
        "  sum=0\n",
        "  for i in range(1,a+1):\n",
        "    sum+=i\n",
        "    print(i,sum)\n",
        "myCumSum(5)\n",
        "    "
      ],
      "metadata": {
        "colab": {
          "base_uri": "https://localhost:8080/"
        },
        "id": "NyeAAPD8N4EQ",
        "outputId": "e286e9f7-1ebf-4f61-fdf5-8bdbcc8ae755"
      },
      "execution_count": null,
      "outputs": [
        {
          "output_type": "stream",
          "name": "stdout",
          "text": [
            "1 1\n",
            "2 3\n",
            "3 6\n",
            "4 10\n",
            "5 15\n"
          ]
        }
      ]
    },
    {
      "cell_type": "code",
      "source": [
        "def myFunction():\n",
        "  for i in range(5):\n",
        "    print(\"Python Programming\")\n",
        "  \n",
        "myFunction()\n"
      ],
      "metadata": {
        "colab": {
          "base_uri": "https://localhost:8080/"
        },
        "id": "_aAaP5lsC31y",
        "outputId": "b9de4e53-c6f9-4b27-baf8-de96c3b722d4"
      },
      "execution_count": null,
      "outputs": [
        {
          "output_type": "stream",
          "name": "stdout",
          "text": [
            "Python Programming\n",
            "Python Programming\n",
            "Python Programming\n",
            "Python Programming\n",
            "Python Programming\n"
          ]
        }
      ]
    },
    {
      "cell_type": "code",
      "source": [
        "def myFunction():\n",
        "  "
      ],
      "metadata": {
        "id": "nN7XLifFE7ex"
      },
      "execution_count": null,
      "outputs": []
    },
    {
      "cell_type": "markdown",
      "source": [
        "수행평가"
      ],
      "metadata": {
        "id": "DsUVkgEpRk3M"
      }
    },
    {
      "cell_type": "code",
      "source": [
        "def printPrg(*args):\n",
        "    for i in args:\n",
        "        print(i)\n",
        "\n",
        "printPrg(\"Java\", \"C\", \"Python\", \"R\", \"Web\")\n",
        "\n"
      ],
      "metadata": {
        "id": "Hm-LD1q0sf02",
        "outputId": "6f597bd7-193a-4f0d-ea23-bd1632ba7780",
        "colab": {
          "base_uri": "https://localhost:8080/"
        }
      },
      "execution_count": null,
      "outputs": [
        {
          "output_type": "stream",
          "name": "stdout",
          "text": [
            "Java\n",
            "C\n",
            "Python\n",
            "R\n",
            "Web\n"
          ]
        }
      ]
    },
    {
      "cell_type": "code",
      "source": [
        "def strLen(str): #함수 정의\n",
        "return len(str)\n",
        "str=[\"apple\", \"banana\", \"cherry\", \"durian\", \"mango\"]\n",
        "strnum=list(map(strLen, str))\n",
        "for i,j in zip(str, strnum):\n",
        "print(\"{}\\t{}\".format(i,j))"
      ],
      "metadata": {
        "id": "LxNB1p-Wu0kY"
      },
      "execution_count": null,
      "outputs": []
    },
    {
      "cell_type": "code",
      "source": [
        "def myFunction():\n",
        "  name=input(\"이름:\")\n",
        "  age=int(input(\"나이:\"))\n",
        "  print(\"이름은 {}이고 나이는 {}세 입니다.\".format(name,age))\n",
        "\n",
        "myFunction()"
      ],
      "metadata": {
        "colab": {
          "base_uri": "https://localhost:8080/"
        },
        "id": "QBTCxqRnIa5m",
        "outputId": "9f8a09dd-5f61-43f6-cf98-9722616eb205"
      },
      "execution_count": 3,
      "outputs": [
        {
          "output_type": "stream",
          "name": "stdout",
          "text": [
            "이름:김유나\n",
            "나이:23\n",
            "이름은김유나이고 나이는 23세 입니다.\n"
          ]
        }
      ]
    },
    {
      "cell_type": "code",
      "source": [
        "def gugudan():\n",
        "  dan=int(input(\"단?:\"))\n",
        "  for i in range(1,11,1):\n",
        "    print(dan,\"*\",i,\"=\",dan*i)\n",
        "    i+=1\n",
        "gugudan()\n"
      ],
      "metadata": {
        "colab": {
          "base_uri": "https://localhost:8080/"
        },
        "id": "ivQXtGBSJEFF",
        "outputId": "929fe89a-060d-4207-b0b8-9c2fda8f00af"
      },
      "execution_count": 7,
      "outputs": [
        {
          "output_type": "stream",
          "name": "stdout",
          "text": [
            "단?:3\n",
            "3 * 1 = 3\n",
            "3 * 2 = 6\n",
            "3 * 3 = 9\n",
            "3 * 4 = 12\n",
            "3 * 5 = 15\n",
            "3 * 6 = 18\n",
            "3 * 7 = 21\n",
            "3 * 8 = 24\n",
            "3 * 9 = 27\n",
            "3 * 10 = 30\n"
          ]
        }
      ]
    }
  ]
}