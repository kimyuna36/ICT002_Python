{
  "nbformat": 4,
  "nbformat_minor": 0,
  "metadata": {
    "colab": {
      "provenance": [],
      "collapsed_sections": [],
      "authorship_tag": "ABX9TyNf+WonqowHQbOkARiun2bx",
      "include_colab_link": true
    },
    "kernelspec": {
      "name": "python3",
      "display_name": "Python 3"
    },
    "language_info": {
      "name": "python"
    }
  },
  "cells": [
    {
      "cell_type": "markdown",
      "metadata": {
        "id": "view-in-github",
        "colab_type": "text"
      },
      "source": [
        "<a href=\"https://colab.research.google.com/github/kimyuna36/ICT002_Python/blob/main/week4.ipynb\" target=\"_parent\"><img src=\"https://colab.research.google.com/assets/colab-badge.svg\" alt=\"Open In Colab\"/></a>"
      ]
    },
    {
      "cell_type": "code",
      "execution_count": null,
      "metadata": {
        "colab": {
          "base_uri": "https://localhost:8080/"
        },
        "id": "nCdL5PEx19dL",
        "outputId": "d8a1264e-2d52-48d8-dedd-f9452c7a0408"
      },
      "outputs": [
        {
          "output_type": "stream",
          "name": "stdout",
          "text": [
            "어떤 수:1\n",
            "1은 홀수입니다.\n",
            "어떤 수:2\n",
            "2은 짝수입니다.\n",
            "어떤 수:3\n",
            "3은 홀수입니다.\n",
            "어떤 수:4\n",
            "4은 짝수입니다.\n",
            "어떤 수:5\n",
            "5은 홀수입니다.\n",
            "홀수의 개수:0\n"
          ]
        }
      ],
      "source": [
        "odd_cnt=0\n",
        "even_cnt=0\n",
        "for i in range(5):\n",
        "  \n",
        "  num=int(input(\"어떤 수:\"))\n",
        "\n",
        "  if num%2==0:\n",
        "    print(f\"{num}은 짝수입니다.\")\n",
        "  else:\n",
        "    print(f\"{num}은 홀수입니다.\")\n",
        "    odd_cnt+=1\n",
        "    even_cnt+=1\n",
        "print(f\"홀수의 개수:{odd_cnt}\")\n",
        "print(f\"짝수의 개수:{even_cnt}\")"
      ]
    },
    {
      "cell_type": "code",
      "source": [],
      "metadata": {
        "id": "JrM4QW6G0Vc_"
      },
      "execution_count": null,
      "outputs": []
    },
    {
      "cell_type": "code",
      "source": [
        "for i in range(5,0,-1):\n",
        "  print (i)\n"
      ],
      "metadata": {
        "colab": {
          "base_uri": "https://localhost:8080/"
        },
        "id": "UvGSC4SF42Br",
        "outputId": "2e29ca29-49d1-47fe-af47-a1c79143cc02"
      },
      "execution_count": null,
      "outputs": [
        {
          "output_type": "stream",
          "name": "stdout",
          "text": [
            "5\n",
            "4\n",
            "3\n",
            "2\n",
            "1\n"
          ]
        }
      ]
    },
    {
      "cell_type": "code",
      "source": [],
      "metadata": {
        "id": "pc_AD-bf8lRy"
      },
      "execution_count": null,
      "outputs": []
    },
    {
      "cell_type": "code",
      "source": [],
      "metadata": {
        "id": "WfzLqnn753Z2"
      },
      "execution_count": null,
      "outputs": []
    },
    {
      "cell_type": "markdown",
      "source": [
        "-range 는 숫자만 담아주지만 리스트는 또 다른 리스트, 실수,문자열 등이 들어갈 수 있음\n",
        "-alpha=[\"a\",\"b\",\"c\",\"d\",\"e\"]\n",
        "for i in alpha\n",
        "대신 \n",
        "for i in \"abcde\" 도 가능\n",
        "-reversed는 list 외에도 사용 가능\n",
        "-reverse 는 list 에서만 사용 가능\n",
        "\n"
      ],
      "metadata": {
        "id": "AJ1wPTG253rE"
      }
    },
    {
      "cell_type": "code",
      "source": [
        "zoo=[\"rabbit\", \"goat\",\"tiger\",\"lion\",\"girrafe\", \"zebra\"] \n",
        "for name in zoo[::-1]:\n",
        "  print(name,end=\" \")"
      ],
      "metadata": {
        "colab": {
          "base_uri": "https://localhost:8080/"
        },
        "id": "8Ym-i7Gi7uPE",
        "outputId": "68f3ebb7-16ee-41f0-83e5-389470a6a0e8"
      },
      "execution_count": null,
      "outputs": [
        {
          "output_type": "stream",
          "name": "stdout",
          "text": [
            "zebra girrafe lion tiger goat rabbit "
          ]
        }
      ]
    },
    {
      "cell_type": "code",
      "source": [
        "zoo=[\"rabbit\", \"goat\",\"tiger\",\"lion\",\"girrafe\", \"zebra\"] \n",
        "num=0\n",
        "for name in zoo[::1]:\n",
        "  num=len(name)\n",
        "  print(f\"{name}:{num}\")"
      ],
      "metadata": {
        "colab": {
          "base_uri": "https://localhost:8080/"
        },
        "id": "fjBmCdnX85EY",
        "outputId": "544899bd-2280-44a2-da87-32ec0e29c2c8"
      },
      "execution_count": null,
      "outputs": [
        {
          "output_type": "stream",
          "name": "stdout",
          "text": [
            "rabbit:6\n",
            "goat:4\n",
            "tiger:5\n",
            "lion:4\n",
            "girrafe:7\n",
            "zebra:5\n"
          ]
        }
      ]
    },
    {
      "cell_type": "code",
      "source": [
        "zoo=[\"rabbit\", \"goat\",\"tiger\",\"lion\",\"girrafe\", \"zebra\"]\n",
        "\n",
        "\n",
        "for i in range(2):\n",
        "  user=input(\"내가 좋아하는 동물은?\")\n",
        "  if user in zoo:\n",
        "   print(f\"{user}(은)는 동물원에 있습니다.\")\n",
        "  else:\n",
        "    print(f\"{user}(은)는 동물원에 없습니다.\")\n",
        "\n"
      ],
      "metadata": {
        "colab": {
          "base_uri": "https://localhost:8080/"
        },
        "id": "SbkVF71p-PNo",
        "outputId": "23b7293b-8fbe-41be-ab4d-02661266f731"
      },
      "execution_count": null,
      "outputs": [
        {
          "output_type": "stream",
          "name": "stdout",
          "text": [
            "내가 좋아하는 동물은?rabbit\n",
            "rabbit(은)는 동물원에 있습니다.\n",
            "내가 좋아하는 동물은?l\n",
            "l(은)는 동물원에 없습니다.\n"
          ]
        }
      ]
    },
    {
      "cell_type": "code",
      "source": [
        "num=int(input(\"원하는 구구단:\"))\n",
        "cnt=1\n",
        "while cnt<=9:\n",
        "  print(f\"{num}*{cnt}=\",num*cnt)\n",
        "  cnt=cnt+1"
      ],
      "metadata": {
        "colab": {
          "base_uri": "https://localhost:8080/"
        },
        "id": "pclVA0pEIdyC",
        "outputId": "ec11f76d-6302-4530-a298-8f3d47ac6cf1"
      },
      "execution_count": null,
      "outputs": [
        {
          "output_type": "stream",
          "name": "stdout",
          "text": [
            "원하는 구구단:2\n",
            "2*1= 2\n",
            "2*2= 4\n",
            "2*3= 6\n",
            "2*4= 8\n",
            "2*5= 10\n",
            "2*6= 12\n",
            "2*7= 14\n",
            "2*8= 16\n",
            "2*9= 18\n"
          ]
        }
      ]
    },
    {
      "cell_type": "code",
      "source": [
        "  "
      ],
      "metadata": {
        "id": "FwDwHjCT_Uh3"
      },
      "execution_count": null,
      "outputs": []
    },
    {
      "cell_type": "code",
      "source": [
        "for i in range(1,6,1) :\n",
        "  for j in range(1,i+1,1) :\n",
        "    i+=1\n",
        "    print(j, end='')\n",
        "  print()\n",
        "  "
      ],
      "metadata": {
        "colab": {
          "base_uri": "https://localhost:8080/"
        },
        "id": "AWC_p6pHPyZq",
        "outputId": "7d8286d9-7785-4186-9932-9cc181989b93"
      },
      "execution_count": null,
      "outputs": [
        {
          "output_type": "stream",
          "name": "stdout",
          "text": [
            "1\n",
            "12\n",
            "123\n",
            "1234\n",
            "12345\n"
          ]
        }
      ]
    },
    {
      "cell_type": "markdown",
      "source": [
        "수행평가\n"
      ],
      "metadata": {
        "id": "4O9le-oP6__J"
      }
    },
    {
      "cell_type": "code",
      "source": [
        "animal=[\"dog\",\"duck\",\"pony\",\"donkey\",\"giraffe\",\"elephant\",\"cat\"]\n",
        "\n",
        "for name in animal[::1]:\n",
        "  if len(name)<5:\n",
        "    print(name)\n",
        "\n"
      ],
      "metadata": {
        "id": "cmUwYiCE0XGJ",
        "colab": {
          "base_uri": "https://localhost:8080/"
        },
        "outputId": "309d596f-cebd-4048-835b-d0437b5bf0fc"
      },
      "execution_count": null,
      "outputs": [
        {
          "output_type": "stream",
          "name": "stdout",
          "text": [
            "dog\n",
            "duck\n",
            "pony\n",
            "cat\n"
          ]
        }
      ]
    },
    {
      "cell_type": "code",
      "source": [
        "for i in range(2):\n",
        "  print(\"i=\",i)\n",
        "  for j in range(3):\n",
        "    print(\"\\tj=\",j)"
      ],
      "metadata": {
        "id": "0hvBfckNe9Yq",
        "colab": {
          "base_uri": "https://localhost:8080/"
        },
        "outputId": "171dfae3-ac69-4238-8fb4-603c512bbf01"
      },
      "execution_count": null,
      "outputs": [
        {
          "output_type": "stream",
          "name": "stdout",
          "text": [
            "i= 0\n",
            "\tj= 0\n",
            "\tj= 1\n",
            "\tj= 2\n",
            "i= 1\n",
            "\tj= 0\n",
            "\tj= 1\n",
            "\tj= 2\n"
          ]
        }
      ]
    },
    {
      "cell_type": "code",
      "source": [
        "for i in range(1,10,1):\n",
        "  for j in range(2,10,1):\n",
        "    print(f\"{j}*{i}={i*j}\",end=\"\\t\")\n",
        "  print()\n",
        "                 "
      ],
      "metadata": {
        "id": "2G7yyhvSe9Qh",
        "colab": {
          "base_uri": "https://localhost:8080/"
        },
        "outputId": "5f93e5c1-1d37-4481-b3f6-77443e5cebf3"
      },
      "execution_count": null,
      "outputs": [
        {
          "output_type": "stream",
          "name": "stdout",
          "text": [
            "2*1=2\t3*1=3\t4*1=4\t5*1=5\t6*1=6\t7*1=7\t8*1=8\t9*1=9\t\n",
            "2*2=4\t3*2=6\t4*2=8\t5*2=10\t6*2=12\t7*2=14\t8*2=16\t9*2=18\t\n",
            "2*3=6\t3*3=9\t4*3=12\t5*3=15\t6*3=18\t7*3=21\t8*3=24\t9*3=27\t\n",
            "2*4=8\t3*4=12\t4*4=16\t5*4=20\t6*4=24\t7*4=28\t8*4=32\t9*4=36\t\n",
            "2*5=10\t3*5=15\t4*5=20\t5*5=25\t6*5=30\t7*5=35\t8*5=40\t9*5=45\t\n",
            "2*6=12\t3*6=18\t4*6=24\t5*6=30\t6*6=36\t7*6=42\t8*6=48\t9*6=54\t\n",
            "2*7=14\t3*7=21\t4*7=28\t5*7=35\t6*7=42\t7*7=49\t8*7=56\t9*7=63\t\n",
            "2*8=16\t3*8=24\t4*8=32\t5*8=40\t6*8=48\t7*8=56\t8*8=64\t9*8=72\t\n",
            "2*9=18\t3*9=27\t4*9=36\t5*9=45\t6*9=54\t7*9=63\t8*9=72\t9*9=81\t\n"
          ]
        }
      ]
    },
    {
      "cell_type": "code",
      "source": [
        "for i in range(1,6,1):\n",
        "  for j in range(1,i+1,1):\n",
        "    print(i, end=\"\")\n",
        "  print()"
      ],
      "metadata": {
        "colab": {
          "base_uri": "https://localhost:8080/"
        },
        "id": "SyZaTJ-U0lul",
        "outputId": "0fcf0577-044e-4808-b45e-e2c1553caa3c"
      },
      "execution_count": 4,
      "outputs": [
        {
          "output_type": "stream",
          "name": "stdout",
          "text": [
            "1\n",
            "22\n",
            "333\n",
            "4444\n",
            "55555\n"
          ]
        }
      ]
    },
    {
      "cell_type": "code",
      "source": [
        "for i in range(1,6,1):\n",
        "  for j in range(1,i+1,1):\n",
        "    print(j,end=\"\")\n",
        "  print()"
      ],
      "metadata": {
        "colab": {
          "base_uri": "https://localhost:8080/"
        },
        "id": "5jINkFON3Ajs",
        "outputId": "b9776938-0e01-428a-e8d3-c0b431aa5e4b"
      },
      "execution_count": 5,
      "outputs": [
        {
          "output_type": "stream",
          "name": "stdout",
          "text": [
            "1\n",
            "12\n",
            "123\n",
            "1234\n",
            "12345\n"
          ]
        }
      ]
    },
    {
      "cell_type": "code",
      "source": [
        "for i in range(6,0,-1):\n",
        "  for j in range(5,6-i,-1):\n",
        "    print(j, end=\"\")\n",
        "  print()"
      ],
      "metadata": {
        "colab": {
          "base_uri": "https://localhost:8080/"
        },
        "id": "_Sp89Vis4Spc",
        "outputId": "9b919b6e-71a6-4883-dacb-0ecbd01564fc"
      },
      "execution_count": 10,
      "outputs": [
        {
          "output_type": "stream",
          "name": "stdout",
          "text": [
            "54321\n",
            "5432\n",
            "543\n",
            "54\n",
            "5\n",
            "\n"
          ]
        }
      ]
    }
  ]
}